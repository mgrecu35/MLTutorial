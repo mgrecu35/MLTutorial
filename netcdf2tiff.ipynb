{
  "nbformat": 4,
  "nbformat_minor": 0,
  "metadata": {
    "colab": {
      "provenance": [],
      "authorship_tag": "ABX9TyMeAF8zl9BTpfb82bIYt3Wc",
      "include_colab_link": true
    },
    "kernelspec": {
      "name": "python3",
      "display_name": "Python 3"
    },
    "language_info": {
      "name": "python"
    }
  },
  "cells": [
    {
      "cell_type": "markdown",
      "metadata": {
        "id": "view-in-github",
        "colab_type": "text"
      },
      "source": [
        "<a href=\"https://colab.research.google.com/github/mgrecu35/MLTutorial/blob/main/netcdf2tiff.ipynb\" target=\"_parent\"><img src=\"https://colab.research.google.com/assets/colab-badge.svg\" alt=\"Open In Colab\"/></a>"
      ]
    },
    {
      "cell_type": "code",
      "execution_count": null,
      "metadata": {
        "id": "f3E9hi71Dcfa"
      },
      "outputs": [],
      "source": [
        "import xarray as xr\n",
        "import rioxarray as rio\n",
        "\n",
        "#Open the NetCDF\n",
        "#Download the sample from https://www.unidata.ucar.edu/software/netcdf/examples/sresa1b_ncar_ccsm3-example.nc\n",
        "ncfile = xr.open_dataset('sresa1b_ncar_ccsm3-example.nc')\n",
        "\n",
        "#Extract the variable\n",
        "pr = ncfile['pr']\n",
        "\n",
        "#(Optional) convert longitude from (0-360) to (-180 to 180) (if required)\n",
        "pr.coords['lon'] = (pr.coords['lon'] + 180) % 360 - 180\n",
        "pr = pr.sortby(pr.lon)\n",
        "\n",
        "#Define lat/long\n",
        "pr = pr.rio.set_spatial_dims('lon', 'lat')\n",
        "\n",
        "#Check for the CRS\n",
        "pr.rio.crs\n",
        "\n",
        "#(Optional) If your CRS is not discovered, you should be able to add it like so:\n",
        "pr.rio.set_crs(\"epsg:4326\")\n",
        "pr.data[:]*=1e4\n",
        "#Saving the file\n",
        "pr.rio.to_raster(r\"GeoTIFF.tif\")"
      ]
    }
  ]
}